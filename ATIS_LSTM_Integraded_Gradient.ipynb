{
  "nbformat": 4,
  "nbformat_minor": 0,
  "metadata": {
    "colab": {
      "provenance": [],
      "collapsed_sections": []
    },
    "kernelspec": {
      "name": "python3",
      "display_name": "Python 3"
    },
    "language_info": {
      "name": "python"
    }
  },
  "cells": [
    {
      "cell_type": "code",
      "execution_count": null,
      "metadata": {
        "id": "Tq7QfaDOFxUy"
      },
      "outputs": [],
      "source": [
        "import pandas as pd\n",
        "import numpy as np"
      ]
    },
    {
      "cell_type": "code",
      "source": [
        "train_data= pd.read_csv('/content/atis_intents_train.xls',names= [\"target\", \"text\"])"
      ],
      "metadata": {
        "id": "-4i2vh_UGRaS"
      },
      "execution_count": null,
      "outputs": []
    },
    {
      "cell_type": "code",
      "source": [
        "train_data.head()"
      ],
      "metadata": {
        "colab": {
          "base_uri": "https://localhost:8080/",
          "height": 206
        },
        "id": "d-9uIDnaGgNa",
        "outputId": "e4ef564e-6149-457b-dd59-267fb72bacc7"
      },
      "execution_count": null,
      "outputs": [
        {
          "output_type": "execute_result",
          "data": {
            "text/plain": [
              "             target                                               text\n",
              "0       atis_flight   i want to fly from boston at 838 am and arriv...\n",
              "1       atis_flight   what flights are available from pittsburgh to...\n",
              "2  atis_flight_time   what is the arrival time in san francisco for...\n",
              "3      atis_airfare            cheapest airfare from tacoma to orlando\n",
              "4      atis_airfare   round trip fares from pittsburgh to philadelp..."
            ],
            "text/html": [
              "\n",
              "  <div id=\"df-f55bcbc5-cf9b-4257-866f-f0546c3c010b\">\n",
              "    <div class=\"colab-df-container\">\n",
              "      <div>\n",
              "<style scoped>\n",
              "    .dataframe tbody tr th:only-of-type {\n",
              "        vertical-align: middle;\n",
              "    }\n",
              "\n",
              "    .dataframe tbody tr th {\n",
              "        vertical-align: top;\n",
              "    }\n",
              "\n",
              "    .dataframe thead th {\n",
              "        text-align: right;\n",
              "    }\n",
              "</style>\n",
              "<table border=\"1\" class=\"dataframe\">\n",
              "  <thead>\n",
              "    <tr style=\"text-align: right;\">\n",
              "      <th></th>\n",
              "      <th>target</th>\n",
              "      <th>text</th>\n",
              "    </tr>\n",
              "  </thead>\n",
              "  <tbody>\n",
              "    <tr>\n",
              "      <th>0</th>\n",
              "      <td>atis_flight</td>\n",
              "      <td>i want to fly from boston at 838 am and arriv...</td>\n",
              "    </tr>\n",
              "    <tr>\n",
              "      <th>1</th>\n",
              "      <td>atis_flight</td>\n",
              "      <td>what flights are available from pittsburgh to...</td>\n",
              "    </tr>\n",
              "    <tr>\n",
              "      <th>2</th>\n",
              "      <td>atis_flight_time</td>\n",
              "      <td>what is the arrival time in san francisco for...</td>\n",
              "    </tr>\n",
              "    <tr>\n",
              "      <th>3</th>\n",
              "      <td>atis_airfare</td>\n",
              "      <td>cheapest airfare from tacoma to orlando</td>\n",
              "    </tr>\n",
              "    <tr>\n",
              "      <th>4</th>\n",
              "      <td>atis_airfare</td>\n",
              "      <td>round trip fares from pittsburgh to philadelp...</td>\n",
              "    </tr>\n",
              "  </tbody>\n",
              "</table>\n",
              "</div>\n",
              "      <button class=\"colab-df-convert\" onclick=\"convertToInteractive('df-f55bcbc5-cf9b-4257-866f-f0546c3c010b')\"\n",
              "              title=\"Convert this dataframe to an interactive table.\"\n",
              "              style=\"display:none;\">\n",
              "        \n",
              "  <svg xmlns=\"http://www.w3.org/2000/svg\" height=\"24px\"viewBox=\"0 0 24 24\"\n",
              "       width=\"24px\">\n",
              "    <path d=\"M0 0h24v24H0V0z\" fill=\"none\"/>\n",
              "    <path d=\"M18.56 5.44l.94 2.06.94-2.06 2.06-.94-2.06-.94-.94-2.06-.94 2.06-2.06.94zm-11 1L8.5 8.5l.94-2.06 2.06-.94-2.06-.94L8.5 2.5l-.94 2.06-2.06.94zm10 10l.94 2.06.94-2.06 2.06-.94-2.06-.94-.94-2.06-.94 2.06-2.06.94z\"/><path d=\"M17.41 7.96l-1.37-1.37c-.4-.4-.92-.59-1.43-.59-.52 0-1.04.2-1.43.59L10.3 9.45l-7.72 7.72c-.78.78-.78 2.05 0 2.83L4 21.41c.39.39.9.59 1.41.59.51 0 1.02-.2 1.41-.59l7.78-7.78 2.81-2.81c.8-.78.8-2.07 0-2.86zM5.41 20L4 18.59l7.72-7.72 1.47 1.35L5.41 20z\"/>\n",
              "  </svg>\n",
              "      </button>\n",
              "      \n",
              "  <style>\n",
              "    .colab-df-container {\n",
              "      display:flex;\n",
              "      flex-wrap:wrap;\n",
              "      gap: 12px;\n",
              "    }\n",
              "\n",
              "    .colab-df-convert {\n",
              "      background-color: #E8F0FE;\n",
              "      border: none;\n",
              "      border-radius: 50%;\n",
              "      cursor: pointer;\n",
              "      display: none;\n",
              "      fill: #1967D2;\n",
              "      height: 32px;\n",
              "      padding: 0 0 0 0;\n",
              "      width: 32px;\n",
              "    }\n",
              "\n",
              "    .colab-df-convert:hover {\n",
              "      background-color: #E2EBFA;\n",
              "      box-shadow: 0px 1px 2px rgba(60, 64, 67, 0.3), 0px 1px 3px 1px rgba(60, 64, 67, 0.15);\n",
              "      fill: #174EA6;\n",
              "    }\n",
              "\n",
              "    [theme=dark] .colab-df-convert {\n",
              "      background-color: #3B4455;\n",
              "      fill: #D2E3FC;\n",
              "    }\n",
              "\n",
              "    [theme=dark] .colab-df-convert:hover {\n",
              "      background-color: #434B5C;\n",
              "      box-shadow: 0px 1px 3px 1px rgba(0, 0, 0, 0.15);\n",
              "      filter: drop-shadow(0px 1px 2px rgba(0, 0, 0, 0.3));\n",
              "      fill: #FFFFFF;\n",
              "    }\n",
              "  </style>\n",
              "\n",
              "      <script>\n",
              "        const buttonEl =\n",
              "          document.querySelector('#df-f55bcbc5-cf9b-4257-866f-f0546c3c010b button.colab-df-convert');\n",
              "        buttonEl.style.display =\n",
              "          google.colab.kernel.accessAllowed ? 'block' : 'none';\n",
              "\n",
              "        async function convertToInteractive(key) {\n",
              "          const element = document.querySelector('#df-f55bcbc5-cf9b-4257-866f-f0546c3c010b');\n",
              "          const dataTable =\n",
              "            await google.colab.kernel.invokeFunction('convertToInteractive',\n",
              "                                                     [key], {});\n",
              "          if (!dataTable) return;\n",
              "\n",
              "          const docLinkHtml = 'Like what you see? Visit the ' +\n",
              "            '<a target=\"_blank\" href=https://colab.research.google.com/notebooks/data_table.ipynb>data table notebook</a>'\n",
              "            + ' to learn more about interactive tables.';\n",
              "          element.innerHTML = '';\n",
              "          dataTable['output_type'] = 'display_data';\n",
              "          await google.colab.output.renderOutput(dataTable, element);\n",
              "          const docLink = document.createElement('div');\n",
              "          docLink.innerHTML = docLinkHtml;\n",
              "          element.appendChild(docLink);\n",
              "        }\n",
              "      </script>\n",
              "    </div>\n",
              "  </div>\n",
              "  "
            ]
          },
          "metadata": {},
          "execution_count": 3
        }
      ]
    },
    {
      "cell_type": "code",
      "source": [
        "test_data= pd.read_csv('/content/atis_intents_test.xls',names= [\"target\", \"text\"])"
      ],
      "metadata": {
        "id": "5mR3DUeAGjHP"
      },
      "execution_count": null,
      "outputs": []
    },
    {
      "cell_type": "code",
      "source": [
        "_LABEL_NAMES = test_data['target']\n",
        "_LABEL_NAMES = _LABEL_NAMES.unique()\n",
        "_LABEL_NAMES"
      ],
      "metadata": {
        "id": "U_nrypYWrbCb",
        "colab": {
          "base_uri": "https://localhost:8080/"
        },
        "outputId": "10ce9433-20de-4d4f-b1ed-088dcccc3575"
      },
      "execution_count": null,
      "outputs": [
        {
          "output_type": "execute_result",
          "data": {
            "text/plain": [
              "array(['atis_flight', 'atis_airfare', 'atis_ground_service',\n",
              "       'atis_airline', 'atis_flight_time', 'atis_quantity',\n",
              "       'atis_abbreviation', 'atis_aircraft'], dtype=object)"
            ]
          },
          "metadata": {},
          "execution_count": 5
        }
      ]
    },
    {
      "cell_type": "code",
      "source": [
        "train_data= train_data.append(train_data.loc[train_data.target.isin([\"atis_flight_time\", \"atis_quantity\"]), :])"
      ],
      "metadata": {
        "id": "QSHBk6PKG-FE"
      },
      "execution_count": null,
      "outputs": []
    },
    {
      "cell_type": "code",
      "source": [
        "from sklearn.preprocessing import OneHotEncoder as OHE\n",
        "\n",
        "y_encoder= OHE().fit(np.array(train_data.target).reshape(-1,1))"
      ],
      "metadata": {
        "id": "gku0BbqbHg5J"
      },
      "execution_count": null,
      "outputs": []
    },
    {
      "cell_type": "code",
      "source": [
        "ytr_encoded= y_encoder.transform(np.array(train_data.target).reshape(-1,1)).toarray()\n",
        "yts_encoded= y_encoder.transform(np.array(test_data.target).reshape(-1,1)).toarray()"
      ],
      "metadata": {
        "id": "xFz1NdIRdA-r"
      },
      "execution_count": null,
      "outputs": []
    },
    {
      "cell_type": "code",
      "source": [
        "import nltk\n",
        "train_data[\"lower_text\"]= train_data.text.map(lambda x: x.lower())\n",
        "test_data[\"lower_text\"]= test_data.text.map(lambda x: x.lower())"
      ],
      "metadata": {
        "id": "9VG1FMQEdHJB"
      },
      "execution_count": null,
      "outputs": []
    },
    {
      "cell_type": "code",
      "source": [
        "from nltk import word_tokenize\n",
        "nltk.download('punkt')\n",
        "\n",
        "train_data[\"tokenized\"]= train_data.lower_text.map(word_tokenize)\n",
        "test_data[\"tokenized\"]= test_data.lower_text.map(word_tokenize)"
      ],
      "metadata": {
        "colab": {
          "base_uri": "https://localhost:8080/"
        },
        "id": "nsRdXQL7dYgu",
        "outputId": "65f4b6f9-b516-4ba6-ba6a-6439e00f4c13"
      },
      "execution_count": null,
      "outputs": [
        {
          "output_type": "stream",
          "name": "stderr",
          "text": [
            "[nltk_data] Downloading package punkt to /root/nltk_data...\n",
            "[nltk_data]   Unzipping tokenizers/punkt.zip.\n"
          ]
        }
      ]
    },
    {
      "cell_type": "code",
      "source": [
        "test_data.head()"
      ],
      "metadata": {
        "colab": {
          "base_uri": "https://localhost:8080/",
          "height": 206
        },
        "id": "r4CzUnTqdq-6",
        "outputId": "8fb7ec40-d201-49c0-885c-da91f95e87ac"
      },
      "execution_count": null,
      "outputs": [
        {
          "output_type": "execute_result",
          "data": {
            "text/plain": [
              "         target                                               text  \\\n",
              "0   atis_flight   i would like to find a flight from charlotte ...   \n",
              "1  atis_airfare   on april first i need a ticket from tacoma to...   \n",
              "2   atis_flight   on april first i need a flight going from pho...   \n",
              "3   atis_flight   i would like a flight traveling one way from ...   \n",
              "4   atis_flight   i would like a flight from orlando to salt la...   \n",
              "\n",
              "                                          lower_text  \\\n",
              "0   i would like to find a flight from charlotte ...   \n",
              "1   on april first i need a ticket from tacoma to...   \n",
              "2   on april first i need a flight going from pho...   \n",
              "3   i would like a flight traveling one way from ...   \n",
              "4   i would like a flight from orlando to salt la...   \n",
              "\n",
              "                                           tokenized  \n",
              "0  [i, would, like, to, find, a, flight, from, ch...  \n",
              "1  [on, april, first, i, need, a, ticket, from, t...  \n",
              "2  [on, april, first, i, need, a, flight, going, ...  \n",
              "3  [i, would, like, a, flight, traveling, one, wa...  \n",
              "4  [i, would, like, a, flight, from, orlando, to,...  "
            ],
            "text/html": [
              "\n",
              "  <div id=\"df-673312eb-de55-45ee-8393-d40e948f3df3\">\n",
              "    <div class=\"colab-df-container\">\n",
              "      <div>\n",
              "<style scoped>\n",
              "    .dataframe tbody tr th:only-of-type {\n",
              "        vertical-align: middle;\n",
              "    }\n",
              "\n",
              "    .dataframe tbody tr th {\n",
              "        vertical-align: top;\n",
              "    }\n",
              "\n",
              "    .dataframe thead th {\n",
              "        text-align: right;\n",
              "    }\n",
              "</style>\n",
              "<table border=\"1\" class=\"dataframe\">\n",
              "  <thead>\n",
              "    <tr style=\"text-align: right;\">\n",
              "      <th></th>\n",
              "      <th>target</th>\n",
              "      <th>text</th>\n",
              "      <th>lower_text</th>\n",
              "      <th>tokenized</th>\n",
              "    </tr>\n",
              "  </thead>\n",
              "  <tbody>\n",
              "    <tr>\n",
              "      <th>0</th>\n",
              "      <td>atis_flight</td>\n",
              "      <td>i would like to find a flight from charlotte ...</td>\n",
              "      <td>i would like to find a flight from charlotte ...</td>\n",
              "      <td>[i, would, like, to, find, a, flight, from, ch...</td>\n",
              "    </tr>\n",
              "    <tr>\n",
              "      <th>1</th>\n",
              "      <td>atis_airfare</td>\n",
              "      <td>on april first i need a ticket from tacoma to...</td>\n",
              "      <td>on april first i need a ticket from tacoma to...</td>\n",
              "      <td>[on, april, first, i, need, a, ticket, from, t...</td>\n",
              "    </tr>\n",
              "    <tr>\n",
              "      <th>2</th>\n",
              "      <td>atis_flight</td>\n",
              "      <td>on april first i need a flight going from pho...</td>\n",
              "      <td>on april first i need a flight going from pho...</td>\n",
              "      <td>[on, april, first, i, need, a, flight, going, ...</td>\n",
              "    </tr>\n",
              "    <tr>\n",
              "      <th>3</th>\n",
              "      <td>atis_flight</td>\n",
              "      <td>i would like a flight traveling one way from ...</td>\n",
              "      <td>i would like a flight traveling one way from ...</td>\n",
              "      <td>[i, would, like, a, flight, traveling, one, wa...</td>\n",
              "    </tr>\n",
              "    <tr>\n",
              "      <th>4</th>\n",
              "      <td>atis_flight</td>\n",
              "      <td>i would like a flight from orlando to salt la...</td>\n",
              "      <td>i would like a flight from orlando to salt la...</td>\n",
              "      <td>[i, would, like, a, flight, from, orlando, to,...</td>\n",
              "    </tr>\n",
              "  </tbody>\n",
              "</table>\n",
              "</div>\n",
              "      <button class=\"colab-df-convert\" onclick=\"convertToInteractive('df-673312eb-de55-45ee-8393-d40e948f3df3')\"\n",
              "              title=\"Convert this dataframe to an interactive table.\"\n",
              "              style=\"display:none;\">\n",
              "        \n",
              "  <svg xmlns=\"http://www.w3.org/2000/svg\" height=\"24px\"viewBox=\"0 0 24 24\"\n",
              "       width=\"24px\">\n",
              "    <path d=\"M0 0h24v24H0V0z\" fill=\"none\"/>\n",
              "    <path d=\"M18.56 5.44l.94 2.06.94-2.06 2.06-.94-2.06-.94-.94-2.06-.94 2.06-2.06.94zm-11 1L8.5 8.5l.94-2.06 2.06-.94-2.06-.94L8.5 2.5l-.94 2.06-2.06.94zm10 10l.94 2.06.94-2.06 2.06-.94-2.06-.94-.94-2.06-.94 2.06-2.06.94z\"/><path d=\"M17.41 7.96l-1.37-1.37c-.4-.4-.92-.59-1.43-.59-.52 0-1.04.2-1.43.59L10.3 9.45l-7.72 7.72c-.78.78-.78 2.05 0 2.83L4 21.41c.39.39.9.59 1.41.59.51 0 1.02-.2 1.41-.59l7.78-7.78 2.81-2.81c.8-.78.8-2.07 0-2.86zM5.41 20L4 18.59l7.72-7.72 1.47 1.35L5.41 20z\"/>\n",
              "  </svg>\n",
              "      </button>\n",
              "      \n",
              "  <style>\n",
              "    .colab-df-container {\n",
              "      display:flex;\n",
              "      flex-wrap:wrap;\n",
              "      gap: 12px;\n",
              "    }\n",
              "\n",
              "    .colab-df-convert {\n",
              "      background-color: #E8F0FE;\n",
              "      border: none;\n",
              "      border-radius: 50%;\n",
              "      cursor: pointer;\n",
              "      display: none;\n",
              "      fill: #1967D2;\n",
              "      height: 32px;\n",
              "      padding: 0 0 0 0;\n",
              "      width: 32px;\n",
              "    }\n",
              "\n",
              "    .colab-df-convert:hover {\n",
              "      background-color: #E2EBFA;\n",
              "      box-shadow: 0px 1px 2px rgba(60, 64, 67, 0.3), 0px 1px 3px 1px rgba(60, 64, 67, 0.15);\n",
              "      fill: #174EA6;\n",
              "    }\n",
              "\n",
              "    [theme=dark] .colab-df-convert {\n",
              "      background-color: #3B4455;\n",
              "      fill: #D2E3FC;\n",
              "    }\n",
              "\n",
              "    [theme=dark] .colab-df-convert:hover {\n",
              "      background-color: #434B5C;\n",
              "      box-shadow: 0px 1px 3px 1px rgba(0, 0, 0, 0.15);\n",
              "      filter: drop-shadow(0px 1px 2px rgba(0, 0, 0, 0.3));\n",
              "      fill: #FFFFFF;\n",
              "    }\n",
              "  </style>\n",
              "\n",
              "      <script>\n",
              "        const buttonEl =\n",
              "          document.querySelector('#df-673312eb-de55-45ee-8393-d40e948f3df3 button.colab-df-convert');\n",
              "        buttonEl.style.display =\n",
              "          google.colab.kernel.accessAllowed ? 'block' : 'none';\n",
              "\n",
              "        async function convertToInteractive(key) {\n",
              "          const element = document.querySelector('#df-673312eb-de55-45ee-8393-d40e948f3df3');\n",
              "          const dataTable =\n",
              "            await google.colab.kernel.invokeFunction('convertToInteractive',\n",
              "                                                     [key], {});\n",
              "          if (!dataTable) return;\n",
              "\n",
              "          const docLinkHtml = 'Like what you see? Visit the ' +\n",
              "            '<a target=\"_blank\" href=https://colab.research.google.com/notebooks/data_table.ipynb>data table notebook</a>'\n",
              "            + ' to learn more about interactive tables.';\n",
              "          element.innerHTML = '';\n",
              "          dataTable['output_type'] = 'display_data';\n",
              "          await google.colab.output.renderOutput(dataTable, element);\n",
              "          const docLink = document.createElement('div');\n",
              "          docLink.innerHTML = docLinkHtml;\n",
              "          element.appendChild(docLink);\n",
              "        }\n",
              "      </script>\n",
              "    </div>\n",
              "  </div>\n",
              "  "
            ]
          },
          "metadata": {},
          "execution_count": 138
        }
      ]
    },
    {
      "cell_type": "code",
      "source": [
        "nltk.download('stopwords')\n",
        "from nltk.corpus import stopwords\n",
        "from string import punctuation\n",
        "\n",
        "def remove_stop(strings, stop_list):\n",
        "    classed= [s for s in strings if s not in stop_list]\n",
        "    return classed\n",
        "\n",
        "stop= stopwords.words(\"english\")\n",
        "stop_punc= list(set(punctuation))+ stop\n",
        "\n",
        "train_data[\"selected\"]= train_data.tokenized.map(lambda df: remove_stop(df, stop_punc))\n",
        "test_data[\"selected\"]= test_data.tokenized.map(lambda df: remove_stop(df, stop_punc))"
      ],
      "metadata": {
        "id": "Py87r-wZd2sM",
        "colab": {
          "base_uri": "https://localhost:8080/"
        },
        "outputId": "fe702a1b-a1d7-4cb9-f8b4-f4dee170a566"
      },
      "execution_count": null,
      "outputs": [
        {
          "output_type": "stream",
          "name": "stderr",
          "text": [
            "[nltk_data] Downloading package stopwords to /root/nltk_data...\n",
            "[nltk_data]   Package stopwords is already up-to-date!\n"
          ]
        }
      ]
    },
    {
      "cell_type": "code",
      "source": [
        "test_data.head()"
      ],
      "metadata": {
        "colab": {
          "base_uri": "https://localhost:8080/",
          "height": 337
        },
        "id": "Hc7rnPAJd-4B",
        "outputId": "49853ef8-ce74-48f8-ddb3-9a5c651e62b4"
      },
      "execution_count": null,
      "outputs": [
        {
          "output_type": "execute_result",
          "data": {
            "text/plain": [
              "         target                                               text  \\\n",
              "0   atis_flight   i would like to find a flight from charlotte ...   \n",
              "1  atis_airfare   on april first i need a ticket from tacoma to...   \n",
              "2   atis_flight   on april first i need a flight going from pho...   \n",
              "3   atis_flight   i would like a flight traveling one way from ...   \n",
              "4   atis_flight   i would like a flight from orlando to salt la...   \n",
              "\n",
              "                                          lower_text  \\\n",
              "0   i would like to find a flight from charlotte ...   \n",
              "1   on april first i need a ticket from tacoma to...   \n",
              "2   on april first i need a flight going from pho...   \n",
              "3   i would like a flight traveling one way from ...   \n",
              "4   i would like a flight from orlando to salt la...   \n",
              "\n",
              "                                           tokenized  \\\n",
              "0  [i, would, like, to, find, a, flight, from, ch...   \n",
              "1  [on, april, first, i, need, a, ticket, from, t...   \n",
              "2  [on, april, first, i, need, a, flight, going, ...   \n",
              "3  [i, would, like, a, flight, traveling, one, wa...   \n",
              "4  [i, would, like, a, flight, from, orlando, to,...   \n",
              "\n",
              "                                            selected  \n",
              "0  [would, like, find, flight, charlotte, las, ve...  \n",
              "1  [april, first, need, ticket, tacoma, san, jose...  \n",
              "2  [april, first, need, flight, going, phoenix, s...  \n",
              "3  [would, like, flight, traveling, one, way, pho...  \n",
              "4  [would, like, flight, orlando, salt, lake, cit...  "
            ],
            "text/html": [
              "\n",
              "  <div id=\"df-417b5007-2aa4-4ac1-986a-13a9a016d57c\">\n",
              "    <div class=\"colab-df-container\">\n",
              "      <div>\n",
              "<style scoped>\n",
              "    .dataframe tbody tr th:only-of-type {\n",
              "        vertical-align: middle;\n",
              "    }\n",
              "\n",
              "    .dataframe tbody tr th {\n",
              "        vertical-align: top;\n",
              "    }\n",
              "\n",
              "    .dataframe thead th {\n",
              "        text-align: right;\n",
              "    }\n",
              "</style>\n",
              "<table border=\"1\" class=\"dataframe\">\n",
              "  <thead>\n",
              "    <tr style=\"text-align: right;\">\n",
              "      <th></th>\n",
              "      <th>target</th>\n",
              "      <th>text</th>\n",
              "      <th>lower_text</th>\n",
              "      <th>tokenized</th>\n",
              "      <th>selected</th>\n",
              "    </tr>\n",
              "  </thead>\n",
              "  <tbody>\n",
              "    <tr>\n",
              "      <th>0</th>\n",
              "      <td>atis_flight</td>\n",
              "      <td>i would like to find a flight from charlotte ...</td>\n",
              "      <td>i would like to find a flight from charlotte ...</td>\n",
              "      <td>[i, would, like, to, find, a, flight, from, ch...</td>\n",
              "      <td>[would, like, find, flight, charlotte, las, ve...</td>\n",
              "    </tr>\n",
              "    <tr>\n",
              "      <th>1</th>\n",
              "      <td>atis_airfare</td>\n",
              "      <td>on april first i need a ticket from tacoma to...</td>\n",
              "      <td>on april first i need a ticket from tacoma to...</td>\n",
              "      <td>[on, april, first, i, need, a, ticket, from, t...</td>\n",
              "      <td>[april, first, need, ticket, tacoma, san, jose...</td>\n",
              "    </tr>\n",
              "    <tr>\n",
              "      <th>2</th>\n",
              "      <td>atis_flight</td>\n",
              "      <td>on april first i need a flight going from pho...</td>\n",
              "      <td>on april first i need a flight going from pho...</td>\n",
              "      <td>[on, april, first, i, need, a, flight, going, ...</td>\n",
              "      <td>[april, first, need, flight, going, phoenix, s...</td>\n",
              "    </tr>\n",
              "    <tr>\n",
              "      <th>3</th>\n",
              "      <td>atis_flight</td>\n",
              "      <td>i would like a flight traveling one way from ...</td>\n",
              "      <td>i would like a flight traveling one way from ...</td>\n",
              "      <td>[i, would, like, a, flight, traveling, one, wa...</td>\n",
              "      <td>[would, like, flight, traveling, one, way, pho...</td>\n",
              "    </tr>\n",
              "    <tr>\n",
              "      <th>4</th>\n",
              "      <td>atis_flight</td>\n",
              "      <td>i would like a flight from orlando to salt la...</td>\n",
              "      <td>i would like a flight from orlando to salt la...</td>\n",
              "      <td>[i, would, like, a, flight, from, orlando, to,...</td>\n",
              "      <td>[would, like, flight, orlando, salt, lake, cit...</td>\n",
              "    </tr>\n",
              "  </tbody>\n",
              "</table>\n",
              "</div>\n",
              "      <button class=\"colab-df-convert\" onclick=\"convertToInteractive('df-417b5007-2aa4-4ac1-986a-13a9a016d57c')\"\n",
              "              title=\"Convert this dataframe to an interactive table.\"\n",
              "              style=\"display:none;\">\n",
              "        \n",
              "  <svg xmlns=\"http://www.w3.org/2000/svg\" height=\"24px\"viewBox=\"0 0 24 24\"\n",
              "       width=\"24px\">\n",
              "    <path d=\"M0 0h24v24H0V0z\" fill=\"none\"/>\n",
              "    <path d=\"M18.56 5.44l.94 2.06.94-2.06 2.06-.94-2.06-.94-.94-2.06-.94 2.06-2.06.94zm-11 1L8.5 8.5l.94-2.06 2.06-.94-2.06-.94L8.5 2.5l-.94 2.06-2.06.94zm10 10l.94 2.06.94-2.06 2.06-.94-2.06-.94-.94-2.06-.94 2.06-2.06.94z\"/><path d=\"M17.41 7.96l-1.37-1.37c-.4-.4-.92-.59-1.43-.59-.52 0-1.04.2-1.43.59L10.3 9.45l-7.72 7.72c-.78.78-.78 2.05 0 2.83L4 21.41c.39.39.9.59 1.41.59.51 0 1.02-.2 1.41-.59l7.78-7.78 2.81-2.81c.8-.78.8-2.07 0-2.86zM5.41 20L4 18.59l7.72-7.72 1.47 1.35L5.41 20z\"/>\n",
              "  </svg>\n",
              "      </button>\n",
              "      \n",
              "  <style>\n",
              "    .colab-df-container {\n",
              "      display:flex;\n",
              "      flex-wrap:wrap;\n",
              "      gap: 12px;\n",
              "    }\n",
              "\n",
              "    .colab-df-convert {\n",
              "      background-color: #E8F0FE;\n",
              "      border: none;\n",
              "      border-radius: 50%;\n",
              "      cursor: pointer;\n",
              "      display: none;\n",
              "      fill: #1967D2;\n",
              "      height: 32px;\n",
              "      padding: 0 0 0 0;\n",
              "      width: 32px;\n",
              "    }\n",
              "\n",
              "    .colab-df-convert:hover {\n",
              "      background-color: #E2EBFA;\n",
              "      box-shadow: 0px 1px 2px rgba(60, 64, 67, 0.3), 0px 1px 3px 1px rgba(60, 64, 67, 0.15);\n",
              "      fill: #174EA6;\n",
              "    }\n",
              "\n",
              "    [theme=dark] .colab-df-convert {\n",
              "      background-color: #3B4455;\n",
              "      fill: #D2E3FC;\n",
              "    }\n",
              "\n",
              "    [theme=dark] .colab-df-convert:hover {\n",
              "      background-color: #434B5C;\n",
              "      box-shadow: 0px 1px 3px 1px rgba(0, 0, 0, 0.15);\n",
              "      filter: drop-shadow(0px 1px 2px rgba(0, 0, 0, 0.3));\n",
              "      fill: #FFFFFF;\n",
              "    }\n",
              "  </style>\n",
              "\n",
              "      <script>\n",
              "        const buttonEl =\n",
              "          document.querySelector('#df-417b5007-2aa4-4ac1-986a-13a9a016d57c button.colab-df-convert');\n",
              "        buttonEl.style.display =\n",
              "          google.colab.kernel.accessAllowed ? 'block' : 'none';\n",
              "\n",
              "        async function convertToInteractive(key) {\n",
              "          const element = document.querySelector('#df-417b5007-2aa4-4ac1-986a-13a9a016d57c');\n",
              "          const dataTable =\n",
              "            await google.colab.kernel.invokeFunction('convertToInteractive',\n",
              "                                                     [key], {});\n",
              "          if (!dataTable) return;\n",
              "\n",
              "          const docLinkHtml = 'Like what you see? Visit the ' +\n",
              "            '<a target=\"_blank\" href=https://colab.research.google.com/notebooks/data_table.ipynb>data table notebook</a>'\n",
              "            + ' to learn more about interactive tables.';\n",
              "          element.innerHTML = '';\n",
              "          dataTable['output_type'] = 'display_data';\n",
              "          await google.colab.output.renderOutput(dataTable, element);\n",
              "          const docLink = document.createElement('div');\n",
              "          docLink.innerHTML = docLinkHtml;\n",
              "          element.appendChild(docLink);\n",
              "        }\n",
              "      </script>\n",
              "    </div>\n",
              "  </div>\n",
              "  "
            ]
          },
          "metadata": {},
          "execution_count": 85
        }
      ]
    },
    {
      "cell_type": "code",
      "source": [
        "from nltk.stem import PorterStemmer\n",
        "\n",
        "def normalize(text):\n",
        "    return \" \".join(text)\n",
        "\n",
        "stemmer= PorterStemmer()\n",
        "\n",
        "train_data[\"stemmed\"]= train_data.selected.map(lambda xs: [stemmer.stem(x) for x in xs])\n",
        "train_data[\"normalized\"]= train_data.stemmed.apply(normalize)\n",
        "\n",
        "test_data[\"stemmed\"]= test_data.selected.map(lambda xs: [stemmer.stem(x) for x in xs])\n",
        "test_data[\"normalized\"]= test_data.stemmed.apply(normalize)"
      ],
      "metadata": {
        "id": "zTKuAmzVeLMH"
      },
      "execution_count": null,
      "outputs": []
    },
    {
      "cell_type": "code",
      "source": [
        "from tensorflow.keras.preprocessing.text import Tokenizer\n",
        "\n",
        "tokenizer= Tokenizer(num_words= 10000)\n",
        "tokenizer.fit_on_texts(train_data.normalized)\n",
        "\n",
        "tokenized_train= tokenizer.texts_to_sequences(train_data.normalized)\n",
        "tokenized_test= tokenizer.texts_to_sequences(test_data.normalized)"
      ],
      "metadata": {
        "id": "v6eX0XgRDfmM"
      },
      "execution_count": null,
      "outputs": []
    },
    {
      "cell_type": "code",
      "source": [
        "from tensorflow.keras.preprocessing.sequence import pad_sequences\n",
        "\n",
        "train_padded= pad_sequences(tokenized_train, maxlen= 20, padding= \"pre\")\n",
        "test_padded= pad_sequences(tokenized_test, maxlen= 20, padding= \"pre\")"
      ],
      "metadata": {
        "id": "TiJNgsPjDpI1"
      },
      "execution_count": null,
      "outputs": []
    },
    {
      "cell_type": "code",
      "source": [
        "train_padded.shape"
      ],
      "metadata": {
        "colab": {
          "base_uri": "https://localhost:8080/"
        },
        "id": "8LhzD4qGDxIH",
        "outputId": "80bc0894-d109-4786-bd1f-ef2ea0cbeca5"
      },
      "execution_count": null,
      "outputs": [
        {
          "output_type": "execute_result",
          "data": {
            "text/plain": [
              "(4939, 20)"
            ]
          },
          "metadata": {},
          "execution_count": 89
        }
      ]
    },
    {
      "cell_type": "code",
      "source": [
        "from tensorflow.keras.preprocessing.text import one_hot\n",
        "encoded_train = [one_hot(d,10000) for d in train_data['normalized']]"
      ],
      "metadata": {
        "id": "3cr1fGUve7l7"
      },
      "execution_count": null,
      "outputs": []
    },
    {
      "cell_type": "code",
      "source": [
        "encoded_train[0] , encoded_train[1]"
      ],
      "metadata": {
        "colab": {
          "base_uri": "https://localhost:8080/"
        },
        "id": "2ea1rmvHiFwY",
        "outputId": "5affdb28-c9d5-4298-95e3-431f452cfcc9"
      },
      "execution_count": null,
      "outputs": [
        {
          "output_type": "execute_result",
          "data": {
            "text/plain": [
              "([8447, 1839, 2040, 8369, 5296, 2821, 1426, 4953],\n",
              " [1468, 4427, 4218, 5479, 5168, 4953])"
            ]
          },
          "metadata": {},
          "execution_count": 74
        }
      ]
    },
    {
      "cell_type": "code",
      "source": [
        "from tensorflow.keras.preprocessing.text import Tokenizer\n",
        "from tensorflow.keras.preprocessing.sequence import pad_sequences\n",
        "\n",
        "encoded_train = pad_sequences(encoded_train, maxlen=50, padding='post')"
      ],
      "metadata": {
        "id": "vzC7HMWqeTI4"
      },
      "execution_count": null,
      "outputs": []
    },
    {
      "cell_type": "code",
      "source": [
        "encoded_test = [one_hot(d,10000) for d in test_data['normalized']]\n",
        "encoded_test = pad_sequences(encoded_test, maxlen=50, padding='post')\n",
        "encoded_test[1]"
      ],
      "metadata": {
        "id": "Otg02cL41xRq",
        "colab": {
          "base_uri": "https://localhost:8080/"
        },
        "outputId": "de33c241-4b50-40e9-b2c5-4d423bf219b7"
      },
      "execution_count": null,
      "outputs": [
        {
          "output_type": "execute_result",
          "data": {
            "text/plain": [
              "array([5825,  549, 4628, 9005, 8901, 7141, 4985, 8368, 7684,    0,    0,\n",
              "          0,    0,    0,    0,    0,    0,    0,    0,    0,    0,    0,\n",
              "          0,    0,    0,    0,    0,    0,    0,    0,    0,    0,    0,\n",
              "          0,    0,    0,    0,    0,    0,    0,    0,    0,    0,    0,\n",
              "          0,    0,    0,    0,    0,    0], dtype=int32)"
            ]
          },
          "metadata": {},
          "execution_count": 76
        }
      ]
    },
    {
      "cell_type": "code",
      "source": [
        "y_tr = []\n",
        "y_ts = []\n",
        "for i in ytr_encoded:\n",
        "  for j in range(0,8):\n",
        "    if i[j]==1:\n",
        "      y_tr.append(j)\n",
        "\n",
        "for i in yts_encoded:\n",
        "  for j in range(0,8):\n",
        "    if i[j]==1:\n",
        "      y_ts.append(j)\n",
        "ytr_encoded = np.array(y_tr)\n",
        "yts_encoded = np.array(y_ts)\n",
        "print(ytr_encoded.shape , yts_encoded.shape)"
      ],
      "metadata": {
        "colab": {
          "base_uri": "https://localhost:8080/"
        },
        "id": "lO0wyY21jtwg",
        "outputId": "924e2fa5-87de-42d0-acd3-02de32545bef"
      },
      "execution_count": null,
      "outputs": [
        {
          "output_type": "stream",
          "name": "stdout",
          "text": [
            "(4939,) (800,)\n"
          ]
        }
      ]
    },
    {
      "cell_type": "code",
      "source": [
        "from keras.preprocessing import sequence,text\n",
        "from keras.preprocessing.text import Tokenizer\n",
        "from keras.models import Sequential\n",
        "from keras.layers import Dense,Dropout,Embedding,LSTM,Conv1D,GlobalMaxPooling1D,Flatten,MaxPooling1D,GRU,SpatialDropout1D,Bidirectional\n",
        "from keras.callbacks import EarlyStopping\n",
        "\n",
        "#from keras.utils import to_categorical\n",
        "from keras.losses import categorical_crossentropy\n",
        "#!pip install keras.optimizers\n",
        "from tensorflow.keras.optimizers import Adam\n",
        "\n",
        "\n",
        "model = Sequential()\n",
        "model.add(Embedding(10000,100,mask_zero=True))\n",
        "model.add(LSTM(64,dropout=0.4, recurrent_dropout=0.4,return_sequences=True))\n",
        "model.add(LSTM(32,dropout=0.5, recurrent_dropout=0.5,return_sequences=False))\n",
        "model.add(Dense(8,activation='softmax'))\n",
        "model.compile(optimizer=Adam(lr=0.001),loss='categorical_crossentropy',metrics=['accuracy'])\n",
        "print(model.summary())"
      ],
      "metadata": {
        "id": "uUMNMm0VFAMe",
        "colab": {
          "base_uri": "https://localhost:8080/"
        },
        "outputId": "96aa3a28-a0a3-4f16-902d-3a20057faea3"
      },
      "execution_count": null,
      "outputs": [
        {
          "output_type": "stream",
          "name": "stdout",
          "text": [
            "Model: \"sequential\"\n",
            "_________________________________________________________________\n",
            " Layer (type)                Output Shape              Param #   \n",
            "=================================================================\n",
            " embedding (Embedding)       (None, None, 100)         1000000   \n",
            "                                                                 \n",
            " lstm (LSTM)                 (None, None, 64)          42240     \n",
            "                                                                 \n",
            " lstm_1 (LSTM)               (None, 32)                12416     \n",
            "                                                                 \n",
            " dense (Dense)               (None, 8)                 264       \n",
            "                                                                 \n",
            "=================================================================\n",
            "Total params: 1,054,920\n",
            "Trainable params: 1,054,920\n",
            "Non-trainable params: 0\n",
            "_________________________________________________________________\n",
            "None\n"
          ]
        },
        {
          "output_type": "stream",
          "name": "stderr",
          "text": [
            "/usr/local/lib/python3.7/dist-packages/keras/optimizer_v2/adam.py:105: UserWarning: The `lr` argument is deprecated, use `learning_rate` instead.\n",
            "  super(Adam, self).__init__(name, **kwargs)\n"
          ]
        }
      ]
    },
    {
      "cell_type": "code",
      "source": [
        "model.fit(a_train, ytr_encoded, epochs=10, batch_size=128, verbose=1)"
      ],
      "metadata": {
        "colab": {
          "base_uri": "https://localhost:8080/"
        },
        "id": "l9tD3KaWoiyB",
        "outputId": "438ed335-b4ff-49db-b7d9-6acc480e0dae"
      },
      "execution_count": null,
      "outputs": [
        {
          "output_type": "stream",
          "name": "stdout",
          "text": [
            "Epoch 1/10\n",
            "39/39 [==============================] - 10s 112ms/step - loss: 1.3895 - accuracy: 0.7238\n",
            "Epoch 2/10\n",
            "39/39 [==============================] - 4s 112ms/step - loss: 0.7900 - accuracy: 0.7773\n",
            "Epoch 3/10\n",
            "39/39 [==============================] - 4s 111ms/step - loss: 0.5972 - accuracy: 0.7973\n",
            "Epoch 4/10\n",
            "39/39 [==============================] - 4s 110ms/step - loss: 0.4810 - accuracy: 0.8564\n",
            "Epoch 5/10\n",
            "39/39 [==============================] - 4s 111ms/step - loss: 0.3979 - accuracy: 0.8672\n",
            "Epoch 6/10\n",
            "39/39 [==============================] - 4s 111ms/step - loss: 0.3380 - accuracy: 0.8771\n",
            "Epoch 7/10\n",
            "39/39 [==============================] - 4s 112ms/step - loss: 0.2690 - accuracy: 0.9111\n",
            "Epoch 8/10\n",
            "39/39 [==============================] - 4s 112ms/step - loss: 0.2198 - accuracy: 0.9457\n",
            "Epoch 9/10\n",
            "39/39 [==============================] - 4s 113ms/step - loss: 0.1706 - accuracy: 0.9603\n",
            "Epoch 10/10\n",
            "39/39 [==============================] - 4s 113ms/step - loss: 0.1367 - accuracy: 0.9704\n"
          ]
        },
        {
          "output_type": "execute_result",
          "data": {
            "text/plain": [
              "<keras.callbacks.History at 0x7f3f67af57d0>"
            ]
          },
          "metadata": {},
          "execution_count": 37
        }
      ]
    },
    {
      "cell_type": "code",
      "source": [
        "vocab_size = 10000\n",
        "batch_size = 128"
      ],
      "metadata": {
        "id": "7o3qnNxJsgYK"
      },
      "execution_count": null,
      "outputs": []
    },
    {
      "cell_type": "code",
      "source": [
        "from tensorflow.keras.layers.experimental.preprocessing import TextVectorization\n",
        "\n",
        "vocab_size = 1000\n",
        "e_dim = 40\n",
        "n_classes = 8\n",
        "pre_processing_layer = TextVectorization(max_tokens=vocab_size,\n",
        "                                         output_sequence_length=20,\n",
        "                                         name='Notes_preprocessing_layer')\n",
        "\n",
        "# fit the training set to the layer\n",
        "pre_processing_layer.adapt(train_data['lower_text'])\n",
        "# store the vocab\n",
        "vocab = pre_processing_layer.get_vocabulary()"
      ],
      "metadata": {
        "id": "BvrcrR4pSYkw"
      },
      "execution_count": null,
      "outputs": []
    },
    {
      "cell_type": "code",
      "source": [
        "def vectorize_text(text):\n",
        "  return np.array(pre_processing_layer(text))\n",
        "\n",
        "print(\"Vectorized review\", vectorize_text(train_data['lower_text'][0]))\n",
        "print(\"Vectorized review\", vectorize_text(train_data['lower_text'][1]))"
      ],
      "metadata": {
        "colab": {
          "base_uri": "https://localhost:8080/"
        },
        "id": "GDZbplcVqCJg",
        "outputId": "030c62ec-2c1f-4084-b1f8-83060cd893b4"
      },
      "execution_count": null,
      "outputs": [
        {
          "output_type": "stream",
          "name": "stdout",
          "text": [
            "Vectorized review [ 19  71   2  40   3  10  73 423  86  17  80  16  13  73 619  16   5  36\n",
            "   0   0]\n",
            "Vectorized review [ 8  4 27 61  3 20  2 23  6 81 36  0  0  0  0  0  0  0  0  0]\n"
          ]
        }
      ]
    },
    {
      "cell_type": "code",
      "source": [
        "train_ds = train_data['lower_text'].map(vectorize_text)\n",
        "test_ds = test_data['lower_text'].map(vectorize_text)"
      ],
      "metadata": {
        "id": "uqq83HP_Lwos"
      },
      "execution_count": null,
      "outputs": []
    },
    {
      "cell_type": "code",
      "source": [
        "a_train = vectorize_text(train_data['lower_text'][0])\n",
        "for sent in train_ds[1:]:\n",
        "  a_train = np.append(a_train,sent)\n",
        "a_train = a_train.reshape(4939,20)"
      ],
      "metadata": {
        "id": "q7IYtaw9Sy7g"
      },
      "execution_count": null,
      "outputs": []
    },
    {
      "cell_type": "code",
      "source": [
        "a_test = vectorize_text(test_data['lower_text'][0])\n",
        "for sent in test_ds[1:]:\n",
        "  a_test = np.append(a_test,sent)\n",
        "a_test = a_test.reshape(800,20)"
      ],
      "metadata": {
        "id": "aS9Wszl16L1s"
      },
      "execution_count": null,
      "outputs": []
    },
    {
      "cell_type": "code",
      "source": [
        "\n",
        "import tensorflow as tf\n",
        "\n",
        "embed_layer = model.get_layer('embedding')\n",
        "\n",
        "# build new model with all layers after embedding layer\n",
        "new_model = tf.keras.Sequential()\n",
        "for layer in model.layers[1:]:\n",
        "    new_model.add(layer)"
      ],
      "metadata": {
        "id": "DHzLkOBp-Auw"
      },
      "execution_count": null,
      "outputs": []
    },
    {
      "cell_type": "code",
      "source": [
        "sample_vectors = a_test\n",
        "sample_texts = test_data['lower_text']\n",
        "sample_labels = yts_encoded"
      ],
      "metadata": {
        "id": "ywa7m0EvZrNG"
      },
      "execution_count": null,
      "outputs": []
    },
    {
      "cell_type": "code",
      "source": [
        "# select a random index\n",
        "index = 12\n",
        "#index = tf.cast(tf.random.uniform(shape=[1],\n",
        "                                  #minval=sample_vectors.shape[0]),\n",
        "                #dtype=tf.int8).numpy()[0]\n",
        "# generate a random sample\n",
        "sample_text = sample_texts[index]\n",
        "sample_vector = sample_vectors[index]\n",
        "sample_label = sample_labels[index]\n",
        "# get embeddings\n",
        "sample_embed = embed_layer(sample_vector)\n",
        "# Create a Baseline vector with zero embeddings\n",
        "baseline_embed = tf.zeros(shape=tf.shape(sample_embed))\n",
        "# get preds for sample\n",
        "sample_preds = model(sample_vectors)[index]\n",
        "# print the results with color codes\n",
        "#words = [vocab[i] for i in sample_vector]"
      ],
      "metadata": {
        "id": "3CCxVjtecf-_"
      },
      "execution_count": null,
      "outputs": []
    },
    {
      "cell_type": "code",
      "source": [
        "words = [vocab[int(i)] for i in sample_vector]\n",
        "#sample_vector , sample_text , vocab[3]\n",
        "words , sample_text"
      ],
      "metadata": {
        "colab": {
          "base_uri": "https://localhost:8080/"
        },
        "id": "8QONw9DH_GIr",
        "outputId": "123fb600-e0e7-4c5d-c309-5c0a1995c8b9"
      },
      "execution_count": null,
      "outputs": [
        {
          "output_type": "execute_result",
          "data": {
            "text/plain": [
              "(['flight',\n",
              "  'on',\n",
              "  'american',\n",
              "  'from',\n",
              "  'miami',\n",
              "  'to',\n",
              "  'chicago',\n",
              "  'arrive',\n",
              "  'in',\n",
              "  'chicago',\n",
              "  'about',\n",
              "  '5',\n",
              "  'pm',\n",
              "  '',\n",
              "  '',\n",
              "  '',\n",
              "  '',\n",
              "  '',\n",
              "  '',\n",
              "  ''],\n",
              " ' flight on american from miami to chicago arrive in chicago about 5 pm')"
            ]
          },
          "metadata": {},
          "execution_count": 22
        }
      ]
    },
    {
      "cell_type": "code",
      "source": [
        "np.where(sample_label==1)[0][0]\n",
        "sample_label"
      ],
      "metadata": {
        "colab": {
          "base_uri": "https://localhost:8080/"
        },
        "id": "n5JK71z5yhNe",
        "outputId": "4b33cadb-da01-41f3-ea28-d3e31d8186f3"
      },
      "execution_count": null,
      "outputs": [
        {
          "output_type": "execute_result",
          "data": {
            "text/plain": [
              "array([0., 0., 1., 0., 0., 0., 0., 0.])"
            ]
          },
          "metadata": {},
          "execution_count": 122
        }
      ]
    },
    {
      "cell_type": "code",
      "source": [
        "def interpolate_texts(baseline, text, m_steps):\n",
        "\n",
        "    # Generate m_steps intervals for integral_approximation() below.\n",
        "    alphas = tf.linspace(start=0.0, stop=1.0, num=m_steps+1)\n",
        "    # text = tf.cast(text, tf.float32)\n",
        "    alphas_x = alphas[:, tf.newaxis, tf.newaxis]\n",
        "    delta = text - baseline\n",
        "    texts = baseline + alphas_x * delta\n",
        "    return texts"
      ],
      "metadata": {
        "id": "jipUjfEdUhhb"
      },
      "execution_count": null,
      "outputs": []
    },
    {
      "cell_type": "code",
      "source": [
        "n_steps = 50\n",
        "\n",
        "interpolated_texts = interpolate_texts(baseline_embed,\n",
        "                                       sample_embed,\n",
        "                                       n_steps)"
      ],
      "metadata": {
        "id": "517CcRz_c2ed"
      },
      "execution_count": null,
      "outputs": []
    },
    {
      "cell_type": "code",
      "source": [
        "interpolated_texts.shape"
      ],
      "metadata": {
        "colab": {
          "base_uri": "https://localhost:8080/"
        },
        "id": "TOSNffGQdKWh",
        "outputId": "309a657d-3654-46f6-a6bf-d60670b58370"
      },
      "execution_count": null,
      "outputs": [
        {
          "output_type": "execute_result",
          "data": {
            "text/plain": [
              "TensorShape([51, 20, 100])"
            ]
          },
          "metadata": {},
          "execution_count": 25
        }
      ]
    },
    {
      "cell_type": "code",
      "source": [
        "sample_text , sample_label"
      ],
      "metadata": {
        "colab": {
          "base_uri": "https://localhost:8080/"
        },
        "id": "3xcL4spbOmw9",
        "outputId": "5b08a46b-2751-49c8-8b98-c63c69d39f90"
      },
      "execution_count": null,
      "outputs": [
        {
          "output_type": "execute_result",
          "data": {
            "text/plain": [
              "(' on april first i need a ticket from tacoma to san jose departing before 7 am',\n",
              " array([0., 0., 1., 0., 0., 0., 0., 0.]))"
            ]
          },
          "metadata": {},
          "execution_count": 150
        }
      ]
    },
    {
      "cell_type": "code",
      "source": [
        "def compute_gradients(t, target_class_idx):\n",
        "\n",
        "    \"\"\" compute the gradient wrt to embedding layer output \"\"\"\n",
        "\n",
        "    with tf.GradientTape() as tape:\n",
        "        tape.watch(t)\n",
        "        print(np.where(target_class_idx==1)[0][0]+1)\n",
        "        probs = new_model(t)[:,np.where(target_class_idx==1)[0][0]+1]\n",
        "    grads = tape.gradient(probs, t)\n",
        "    return grads\n",
        "#np.where(target_class_idx==3)[0][0]"
      ],
      "metadata": {
        "id": "norn1vXreVd4"
      },
      "execution_count": null,
      "outputs": []
    },
    {
      "cell_type": "code",
      "source": [
        "target_label = sample_label\n",
        "#target_label = 5\n",
        "path_gradients = compute_gradients(interpolated_texts, target_label)"
      ],
      "metadata": {
        "id": "IEhCWenfehBb",
        "colab": {
          "base_uri": "https://localhost:8080/"
        },
        "outputId": "2cb8ded7-d05d-47c2-ae55-d1681984c10f"
      },
      "execution_count": null,
      "outputs": [
        {
          "output_type": "stream",
          "name": "stdout",
          "text": [
            "5\n"
          ]
        }
      ]
    },
    {
      "cell_type": "code",
      "source": [
        "path_gradients.shape"
      ],
      "metadata": {
        "colab": {
          "base_uri": "https://localhost:8080/"
        },
        "id": "biGca1Wsnh0E",
        "outputId": "1c47ac66-04e1-4c61-e06f-4b045ac9aba3"
      },
      "execution_count": null,
      "outputs": [
        {
          "output_type": "execute_result",
          "data": {
            "text/plain": [
              "TensorShape([51, 20, 100])"
            ]
          },
          "metadata": {},
          "execution_count": 51
        }
      ]
    },
    {
      "cell_type": "code",
      "source": [
        "sample_label"
      ],
      "metadata": {
        "colab": {
          "base_uri": "https://localhost:8080/"
        },
        "id": "4-xfMkqJo7J-",
        "outputId": "de5d4050-6459-49c9-c6ae-5cecd6b28b85"
      },
      "execution_count": null,
      "outputs": [
        {
          "output_type": "execute_result",
          "data": {
            "text/plain": [
              "array([0., 0., 0., 0., 1., 0., 0., 0.])"
            ]
          },
          "metadata": {},
          "execution_count": 105
        }
      ]
    },
    {
      "cell_type": "code",
      "source": [
        "# sum the grads of the interpolated vectors\n",
        "all_grads = tf.reduce_sum(path_gradients, axis=0) / n_steps\n",
        "# mulitply grads by (input - baseline); baseline is zero vectors\n",
        "x_grads = tf.math.multiply(all_grads, sample_embed)\n",
        "# sum all gradients across the embedding dimension\n",
        "igs = tf.reduce_sum(x_grads, axis=-1).numpy()"
      ],
      "metadata": {
        "id": "NHcSteo1nper"
      },
      "execution_count": null,
      "outputs": []
    },
    {
      "cell_type": "code",
      "source": [
        "len(igs) , len(test_data['lower_text'][7])"
      ],
      "metadata": {
        "colab": {
          "base_uri": "https://localhost:8080/"
        },
        "id": "AziMnKP_XXcV",
        "outputId": "c96b15ba-1907-4fba-d404-d4776ad59e6e"
      },
      "execution_count": null,
      "outputs": [
        {
          "output_type": "execute_result",
          "data": {
            "text/plain": [
              "(20, 84)"
            ]
          },
          "metadata": {},
          "execution_count": 53
        }
      ]
    },
    {
      "cell_type": "code",
      "source": [
        "def  hlstr(string, color='white'):\n",
        "    \"\"\"\n",
        "    Return HTML markup highlighting text with the desired color.\n",
        "    \"\"\"\n",
        "    return f\"<mark style=background-color:{color}>{string} </mark>\"\n",
        "\n",
        "\n",
        "def colorize(attrs, cmap='PiYG'):\n",
        "    \"\"\"\n",
        "    Compute hex colors based on the attributions for a single instance.\n",
        "    Uses a diverging colorscale by default and normalizes and scales\n",
        "    the colormap so that colors are consistent with the attributions.\n",
        "    \"\"\"\n",
        "    \n",
        "    cmap_bound = tf.reduce_max(tf.abs(attrs))\n",
        "    norm = Normalize(vmin=-cmap_bound, vmax=cmap_bound)\n",
        "    cmap = mpl.cm.get_cmap(cmap)\n",
        "\n",
        "    # now compute hex values of colors\n",
        "    colors = list(map(lambda x: rgb2hex(cmap(norm(x))), attrs))\n",
        "    return colors"
      ],
      "metadata": {
        "id": "bRNoPhBEnyTk"
      },
      "execution_count": null,
      "outputs": []
    },
    {
      "cell_type": "code",
      "source": [
        "import matplotlib as mpl\n",
        "from matplotlib.colors import Normalize, rgb2hex\n",
        "import pandas as pd\n",
        "from IPython.display import HTML\n",
        "\n",
        "colors = colorize(igs)"
      ],
      "metadata": {
        "id": "Vw2qedj7n0_9"
      },
      "execution_count": null,
      "outputs": []
    },
    {
      "cell_type": "code",
      "source": [
        "sample_vector[0]"
      ],
      "metadata": {
        "colab": {
          "base_uri": "https://localhost:8080/"
        },
        "id": "nxRUSNCeDn4t",
        "outputId": "707f945b-cdc9-4666-cf6f-017b1c193dcd"
      },
      "execution_count": null,
      "outputs": [
        {
          "output_type": "execute_result",
          "data": {
            "text/plain": [
              "0"
            ]
          },
          "metadata": {},
          "execution_count": 205
        }
      ]
    },
    {
      "cell_type": "code",
      "source": [
        "vocab = []\n",
        "for sent in train_data['normalized']:\n",
        "  #print(sent)\n",
        "  for word in sent.split():\n",
        "    vocab.append(word)\n",
        "vocab = list(set(vocab))"
      ],
      "metadata": {
        "id": "F7TvbiNg9p-M"
      },
      "execution_count": null,
      "outputs": []
    },
    {
      "cell_type": "code",
      "source": [
        "sample_vectora"
      ],
      "metadata": {
        "colab": {
          "base_uri": "https://localhost:8080/"
        },
        "id": "lCKuVUfFXlNN",
        "outputId": "3bd93f28-1cef-416b-d152-b0ebca41e6d4"
      },
      "execution_count": null,
      "outputs": [
        {
          "output_type": "execute_result",
          "data": {
            "text/plain": [
              "array([ 44.,  20.,   3., 314.,  18.,   6., 460.,  22.,   0.,   0.,   0.,\n",
              "         0.,   0.,   0.,   0.,   0.,   0.,   0.,   0.,   0.])"
            ]
          },
          "metadata": {},
          "execution_count": 313
        }
      ]
    },
    {
      "cell_type": "code",
      "source": [
        "print(vocab[19] , sample_text)"
      ],
      "metadata": {
        "colab": {
          "base_uri": "https://localhost:8080/"
        },
        "id": "5xigersPYN6I",
        "outputId": "42d9b0fa-662f-4e80-c722-e097d32d8924"
      },
      "execution_count": null,
      "outputs": [
        {
          "output_type": "stream",
          "name": "stdout",
          "text": [
            "long  i would like to find a flight from charlotte to las vegas that makes a stop in st. louis\n"
          ]
        }
      ]
    },
    {
      "cell_type": "code",
      "source": [
        "sample_vector , vocab[35]"
      ],
      "metadata": {
        "colab": {
          "base_uri": "https://localhost:8080/"
        },
        "id": "_EwFqpBqw-Tl",
        "outputId": "36b9f9b8-a918-47bc-a3aa-9d102b7208ac"
      },
      "execution_count": null,
      "outputs": [
        {
          "output_type": "execute_result",
          "data": {
            "text/plain": [
              "(array([  0,   0,   0,   0,   0,   0,   0,   0,   0,   0,   0,   0,   0,\n",
              "          0,   0,  35,   1, 100, 175, 141], dtype=int32), 'repres')"
            ]
          },
          "metadata": {},
          "execution_count": 59
        }
      ]
    },
    {
      "cell_type": "code",
      "source": [
        "model.evaluate(x=test_padded,y=yts_encoded)"
      ],
      "metadata": {
        "colab": {
          "base_uri": "https://localhost:8080/"
        },
        "id": "-JOsgBNJ4ryH",
        "outputId": "ce79ba12-d442-4e3e-8660-74a229f2a60d"
      },
      "execution_count": null,
      "outputs": [
        {
          "output_type": "stream",
          "name": "stdout",
          "text": [
            "25/25 [==============================] - 2s 21ms/step - loss: 0.3873 - accuracy: 0.8637\n"
          ]
        },
        {
          "output_type": "execute_result",
          "data": {
            "text/plain": [
              "[0.38731396198272705, 0.8637499809265137]"
            ]
          },
          "metadata": {},
          "execution_count": 71
        }
      ]
    },
    {
      "cell_type": "code",
      "source": [
        "model.predict()"
      ],
      "metadata": {
        "id": "ME_oi3Q76NHa"
      },
      "execution_count": null,
      "outputs": []
    },
    {
      "cell_type": "code",
      "source": [
        "from sklearn.metrics import classification_report\n",
        "\n",
        "prediction= y_encoder.inverse_transform(model.predict(a_train))\n",
        "print(classification_report(train_data.target, prediction))"
      ],
      "metadata": {
        "colab": {
          "base_uri": "https://localhost:8080/"
        },
        "id": "9Un638L69u9T",
        "outputId": "05765f3b-ccf7-4a48-837c-f8539603288e"
      },
      "execution_count": null,
      "outputs": [
        {
          "output_type": "stream",
          "name": "stdout",
          "text": [
            "                     precision    recall  f1-score   support\n",
            "\n",
            "  atis_abbreviation       0.05      0.05      0.05       147\n",
            "      atis_aircraft       0.02      0.31      0.03        81\n",
            "       atis_airfare       0.14      0.24      0.17       423\n",
            "       atis_airline       0.01      0.01      0.01       157\n",
            "        atis_flight       0.80      0.19      0.31      3666\n",
            "   atis_flight_time       0.03      0.13      0.04       108\n",
            "atis_ground_service       0.01      0.02      0.01       255\n",
            "      atis_quantity       0.00      0.00      0.00       102\n",
            "\n",
            "           accuracy                           0.17      4939\n",
            "          macro avg       0.13      0.12      0.08      4939\n",
            "       weighted avg       0.61      0.17      0.25      4939\n",
            "\n"
          ]
        }
      ]
    },
    {
      "cell_type": "code",
      "source": [
        "# print the sample and predictions\n",
        "#sample_text = 'round trip fares from pittsburgh to philadelphia under 1000 dollars'\n",
        "print(f\"Sample Text: {sample_text}\\n\")\n",
        "\n",
        "print(\"Predictions : \")\n",
        "for index in tf.argsort(sample_preds,\n",
        "                        axis=-1, direction='DESCENDING').numpy():\n",
        "    print(f\"\\t{_LABEL_NAMES[index]} - {sample_preds[index]*100:0.2f}%\")\n",
        "\n",
        "print(f\"\\nTrue Label: {_LABEL_NAMES[np.where(sample_label==1)[0][0]]}\")\n",
        "print(f\"\\nAttributions for Label: {_LABEL_NAMES[np.where(target_label==1)[0][0]]}\")\n",
        "print(f\"\\nTop 5 Important words: \"\n",
        "      f\"{[words[i] for i in tf.argsort(igs, -1, 'DESCENDING')]}\\n\")\n",
        "HTML(\"\".join(list(map(hlstr, words, colors))))"
      ],
      "metadata": {
        "colab": {
          "base_uri": "https://localhost:8080/",
          "height": 347
        },
        "id": "MyVgyYbXp8nL",
        "outputId": "e56eac0a-e118-43ef-a34a-369e5b8443af"
      },
      "execution_count": null,
      "outputs": [
        {
          "output_type": "stream",
          "name": "stdout",
          "text": [
            "Sample Text:  flight on american from miami to chicago arrive in chicago about 5 pm\n",
            "\n",
            "Predictions : \n",
            "\tatis_flight - 12.59%\n",
            "\tatis_ground_service - 12.59%\n",
            "\tatis_flight_time - 12.53%\n",
            "\tatis_airfare - 12.53%\n",
            "\tatis_airline - 12.52%\n",
            "\tatis_quantity - 12.46%\n",
            "\tatis_aircraft - 12.41%\n",
            "\tatis_abbreviation - 12.37%\n",
            "\n",
            "True Label: atis_flight_time\n",
            "\n",
            "Attributions for Label: atis_flight_time\n",
            "\n",
            "Top 5 Important words: ['', '', '', '', '', '', '', 'chicago', 'to', 'chicago', 'flight', 'about', 'arrive', 'american', 'on', 'from', 'miami', 'pm', 'in', '5']\n",
            "\n"
          ]
        },
        {
          "output_type": "execute_result",
          "data": {
            "text/plain": [
              "<IPython.core.display.HTML object>"
            ],
            "text/html": [
              "<mark style=background-color:#e9f5d6>flight </mark><mark style=background-color:#faeaf2>on </mark><mark style=background-color:#faecf3>american </mark><mark style=background-color:#f8d0e7>from </mark><mark style=background-color:#f7cbe4>miami </mark><mark style=background-color:#c9e8a2>to </mark><mark style=background-color:#d6eeb6>chicago </mark><mark style=background-color:#f8f5f6>arrive </mark><mark style=background-color:#f1b7da>in </mark><mark style=background-color:#c9e8a2>chicago </mark><mark style=background-color:#ebf6dc>about </mark><mark style=background-color:#9b075c>5 </mark><mark style=background-color:#f6c9e3>pm </mark><mark style=background-color:#a5d56f> </mark><mark style=background-color:#7fbc41> </mark><mark style=background-color:#5a9d29> </mark><mark style=background-color:#3a7b1d> </mark><mark style=background-color:#276419> </mark><mark style=background-color:#276419> </mark><mark style=background-color:#5c9e2a> </mark>"
            ]
          },
          "metadata": {},
          "execution_count": 33
        }
      ]
    },
    {
      "cell_type": "code",
      "source": [
        "#a_test = vectorize_text(test_data['lower_text'][0])\n",
        "sample_text = test_data['lower_text'][1]\n",
        "sample_vector = a_test[1]\n",
        "sample_label = yts_encoded[1]\n",
        "#for sent in train_ds[1:]:\n",
        "  #a_train = np.append(a_train,sent)\n",
        "#a_train = a_train.reshape(4939,30)"
      ],
      "metadata": {
        "id": "QUwV8TY20V1F"
      },
      "execution_count": null,
      "outputs": []
    },
    {
      "cell_type": "code",
      "source": [
        "# print the sample and predictions\n",
        "#sample_text = 'round trip fares from pittsburgh to philadelphia under 1000 dollars'\n",
        "print(f\"Sample Text: {sample_text}\\n\")\n",
        "\n",
        "print(\"Predictions : \")\n",
        "for index in tf.argsort(sample_preds,\n",
        "                        axis=-1, direction='DESCENDING').numpy():\n",
        "    print(f\"\\t{_LABEL_NAMES[index]} - {sample_preds[index]*100:0.2f}%\")\n",
        "\n",
        "print(f\"\\nTrue Label: {_LABEL_NAMES[np.where(sample_label==1)[0][0]]}\")\n",
        "print(f\"\\nAttributions for Label: {_LABEL_NAMES[np.where(target_label==1)[0][0]]}\")\n",
        "print(f\"\\nTop 5 Important words: \"\n",
        "      f\"{[words[i] for i in tf.argsort(igs, -1, 'DESCENDING')]}\\n\")\n",
        "HTML(\"\".join(list(map(hlstr, words, colors))))"
      ],
      "metadata": {
        "id": "W3ynLUTYRfmM",
        "colab": {
          "base_uri": "https://localhost:8080/",
          "height": 367
        },
        "outputId": "a3d67f9a-8c5a-430a-b5d6-66db4a63b034"
      },
      "execution_count": null,
      "outputs": [
        {
          "output_type": "stream",
          "name": "stdout",
          "text": [
            "Sample Text:  i would like to find a flight from charlotte to las vegas that makes a stop in st. louis\n",
            "\n",
            "Predictions : \n",
            "\tatis_flight_time - 99.74%\n",
            "\tatis_airline - 0.12%\n",
            "\tatis_quantity - 0.04%\n",
            "\tatis_ground_service - 0.04%\n",
            "\tatis_airfare - 0.03%\n",
            "\tatis_abbreviation - 0.01%\n",
            "\tatis_flight - 0.00%\n",
            "\tatis_aircraft - 0.00%\n",
            "\n",
            "True Label: atis_flight_time\n",
            "\n",
            "Attributions for Label: atis_flight_time\n",
            "\n",
            "Top 5 Important words: ['find', 'would', 'in', 'like', '', 'that', 'louis', 'a', 'st', 'stop', 'from', 'a', 'makes', 'vegas', 'las', 'charlotte', 'to', 'i', 'to', 'flight']\n",
            "\n"
          ]
        },
        {
          "output_type": "execute_result",
          "data": {
            "text/plain": [
              "<IPython.core.display.HTML object>"
            ],
            "text/html": [
              "<mark style=background-color:#e286b8>i </mark><mark style=background-color:#a7d672>would </mark><mark style=background-color:#f7f7f6>like </mark><mark style=background-color:#d75ea1>to </mark><mark style=background-color:#7dba40>find </mark><mark style=background-color:#fde0ef>a </mark><mark style=background-color:#8e0152>flight </mark><mark style=background-color:#faeaf2>from </mark><mark style=background-color:#f6c9e3>charlotte </mark><mark style=background-color:#f6c9e3>to </mark><mark style=background-color:#f8cee6>las </mark><mark style=background-color:#f8d0e7>vegas </mark><mark style=background-color:#f8f4f6>that </mark><mark style=background-color:#fad6ea>makes </mark><mark style=background-color:#f9f0f5>a </mark><mark style=background-color:#faecf3>stop </mark><mark style=background-color:#f2f6ec>in </mark><mark style=background-color:#f9eef4>st </mark><mark style=background-color:#f8f2f5>louis </mark><mark style=background-color:#f7f7f6> </mark>"
            ]
          },
          "metadata": {},
          "execution_count": 79
        }
      ]
    },
    {
      "cell_type": "code",
      "source": [],
      "metadata": {
        "id": "YRTSLu-nruWX"
      },
      "execution_count": null,
      "outputs": []
    }
  ]
}